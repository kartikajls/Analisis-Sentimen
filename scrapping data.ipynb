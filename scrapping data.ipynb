{
 "cells": [
  {
   "cell_type": "code",
   "execution_count": 1,
   "metadata": {},
   "outputs": [],
   "source": [
    "import pandas as pd\n",
    "from ntscraper import Nitter"
   ]
  },
  {
   "cell_type": "code",
   "execution_count": 2,
   "metadata": {},
   "outputs": [
    {
     "name": "stderr",
     "output_type": "stream",
     "text": [
      "Testing instances: 100%|██████████| 77/77 [06:52<00:00,  5.35s/it]\n"
     ]
    }
   ],
   "source": [
    "#Proses awal scrapping data\n",
    "scraper = Nitter()"
   ]
  },
  {
   "cell_type": "markdown",
   "metadata": {},
   "source": [
    "# User"
   ]
  },
  {
   "cell_type": "code",
   "execution_count": 23,
   "metadata": {},
   "outputs": [
    {
     "name": "stdout",
     "output_type": "stream",
     "text": [
      "13-Mar-24 16:35:46 - No instance specified, using random instance https://nitter.no-logs.com\n",
      "13-Mar-24 16:35:53 - Current stats for uniqloindonesia: 10 tweets, 0 threads...\n"
     ]
    }
   ],
   "source": [
    "#mengambil data\n",
    "tweets = scraper.get_tweets('uniqloindonesia', mode='user', number=10)"
   ]
  },
  {
   "cell_type": "code",
   "execution_count": 24,
   "metadata": {},
   "outputs": [
    {
     "data": {
      "text/plain": [
       "{'tweets': [{'link': 'https://twitter.com/uniqloindonesia/status/1767801576083587085#m',\n",
       "   'text': 'Kalau yang ini tipe cewe yang pasti jadi pusat perhatian karena tampilannya yang selalu elegan bikin pangling!  Karena dengan memadukan Kemeja Linen Blend bersama Rok Panel Katun, ciptakan siluet modis untuk keseharianmu.  Kepoin items nya di sini: https://s.uniqlo.com/3IAuFQ5',\n",
       "   'user': {'name': 'uniqloindonesia',\n",
       "    'username': '@uniqloindonesia',\n",
       "    'profile_id': '687828931135684609',\n",
       "    'avatar': 'https://pbs.twimg.com/profile_images/687828931135684609/KGm1guC3_bigger.png'},\n",
       "   'date': 'Mar 13, 2024 · 6:35 AM UTC',\n",
       "   'is-retweet': False,\n",
       "   'is-pinned': False,\n",
       "   'external-link': '',\n",
       "   'replying-to': [],\n",
       "   'quoted-post': {},\n",
       "   'stats': {'comments': 0, 'retweets': 0, 'quotes': 0, 'likes': 0},\n",
       "   'pictures': ['https://pbs.twimg.com/media/GIh-Jb6a0AE1TXt.jpg'],\n",
       "   'videos': [],\n",
       "   'gifs': []},\n",
       "  {'link': 'https://twitter.com/uniqloindonesia/status/1767801572581396655#m',\n",
       "   'text': 'Ini pasti style workwear andalannya para commute person!  Simple dengan memadukan Kemeja Linen Blend bersama Celana Rileks Linen pasti adem, bahannya lembut di kulit, plus Tas Bahu Serut si kecil yang muat segala barang kamu.  Kepoin items nya di sini: https://s.uniqlo.com/3TJ49ux',\n",
       "   'user': {'name': 'uniqloindonesia',\n",
       "    'username': '@uniqloindonesia',\n",
       "    'profile_id': '687828931135684609',\n",
       "    'avatar': 'https://pbs.twimg.com/profile_images/687828931135684609/KGm1guC3_bigger.png'},\n",
       "   'date': 'Mar 13, 2024 · 6:35 AM UTC',\n",
       "   'is-retweet': False,\n",
       "   'is-pinned': False,\n",
       "   'external-link': '',\n",
       "   'replying-to': [],\n",
       "   'quoted-post': {},\n",
       "   'stats': {'comments': 1, 'retweets': 0, 'quotes': 1, 'likes': 1},\n",
       "   'pictures': ['https://pbs.twimg.com/media/GIh-Fh7bUAA7Ud0.jpg'],\n",
       "   'videos': [],\n",
       "   'gifs': []},\n",
       "  {'link': 'https://twitter.com/uniqloindonesia/status/1767801568772923659#m',\n",
       "   'text': 'Choose your side!  Kalau yang menggambarkan kamu banget sehari-hari yang mana?  #UniqloIndonesia #Uniqlolifewear',\n",
       "   'user': {'name': 'uniqloindonesia',\n",
       "    'username': '@uniqloindonesia',\n",
       "    'profile_id': '687828931135684609',\n",
       "    'avatar': 'https://pbs.twimg.com/profile_images/687828931135684609/KGm1guC3_bigger.png'},\n",
       "   'date': 'Mar 13, 2024 · 6:35 AM UTC',\n",
       "   'is-retweet': False,\n",
       "   'is-pinned': False,\n",
       "   'external-link': '',\n",
       "   'replying-to': [],\n",
       "   'quoted-post': {},\n",
       "   'stats': {'comments': 1, 'retweets': 0, 'quotes': 0, 'likes': 2},\n",
       "   'pictures': ['https://pbs.twimg.com/media/GIh-BOwa4AAJtVF.jpg'],\n",
       "   'videos': [],\n",
       "   'gifs': []},\n",
       "  {'link': 'https://twitter.com/uniqloindonesia/status/1767508847873380762#m',\n",
       "   'text': 'Dapatkan koleksi UNIQLO Linen nya hanya melalui UNIQLO.com, UNIQLO App dan toko UNIQLO terdekat.',\n",
       "   'user': {'name': 'uniqloindonesia',\n",
       "    'username': '@uniqloindonesia',\n",
       "    'profile_id': '687828931135684609',\n",
       "    'avatar': 'https://pbs.twimg.com/profile_images/687828931135684609/KGm1guC3_bigger.png'},\n",
       "   'date': 'Mar 12, 2024 · 11:12 AM UTC',\n",
       "   'is-retweet': False,\n",
       "   'is-pinned': False,\n",
       "   'external-link': '',\n",
       "   'replying-to': [],\n",
       "   'quoted-post': {},\n",
       "   'stats': {'comments': 1, 'retweets': 1, 'quotes': 0, 'likes': 0},\n",
       "   'pictures': ['https://pbs.twimg.com/media/GIdz5wUagAABMxC.jpg'],\n",
       "   'videos': [],\n",
       "   'gifs': []},\n",
       "  {'link': 'https://twitter.com/uniqloindonesia/status/1767508844656402836#m',\n",
       "   'text': 'Udah nyaman, desainnya versatile plus bisa menyerap keringat kurang apalagi coba!  Nah buat ciwi-ciwi pas banget nih kalo lagi cari dress elegan buat bukberan, hayoo ngaku udah diajak bukberan kemana aja nih?  Nih kalau pengen tau details lengkapnya: https://s.uniqlo.com/3SObPLv',\n",
       "   'user': {'name': 'uniqloindonesia',\n",
       "    'username': '@uniqloindonesia',\n",
       "    'profile_id': '687828931135684609',\n",
       "    'avatar': 'https://pbs.twimg.com/profile_images/687828931135684609/KGm1guC3_bigger.png'},\n",
       "   'date': 'Mar 12, 2024 · 11:12 AM UTC',\n",
       "   'is-retweet': False,\n",
       "   'is-pinned': False,\n",
       "   'external-link': '',\n",
       "   'replying-to': [],\n",
       "   'quoted-post': {},\n",
       "   'stats': {'comments': 2, 'retweets': 2, 'quotes': 0, 'likes': 1},\n",
       "   'pictures': ['https://pbs.twimg.com/media/GIdz2X_asAAGwdq.jpg',\n",
       "    'https://pbs.twimg.com/media/GIdz2YXbcAAvLfj.jpg',\n",
       "    'https://pbs.twimg.com/media/GIdz2YybEAAOiRc.jpg'],\n",
       "   'videos': [],\n",
       "   'gifs': []},\n",
       "  {'link': 'https://twitter.com/uniqloindonesia/status/1767508841267445886#m',\n",
       "   'text': 'Yups, ini adalah Linen, bahan yang adem dan halus untuk keseharianmu apalagi di bulan puasa ini.  Kenapa sih harus Linen ? Nah jawabannya ada di sini nih coba scroll lagi deh 👇🏻',\n",
       "   'user': {'name': 'uniqloindonesia',\n",
       "    'username': '@uniqloindonesia',\n",
       "    'profile_id': '687828931135684609',\n",
       "    'avatar': 'https://pbs.twimg.com/profile_images/687828931135684609/KGm1guC3_bigger.png'},\n",
       "   'date': 'Mar 12, 2024 · 11:12 AM UTC',\n",
       "   'is-retweet': False,\n",
       "   'is-pinned': False,\n",
       "   'external-link': '',\n",
       "   'replying-to': [],\n",
       "   'quoted-post': {},\n",
       "   'stats': {'comments': 1, 'retweets': 0, 'quotes': 0, 'likes': 0},\n",
       "   'pictures': ['https://pbs.twimg.com/media/GIdzxLWboAAk1zC.jpg',\n",
       "    'https://pbs.twimg.com/media/GIdzxLjbQAA_7G6.jpg'],\n",
       "   'videos': [],\n",
       "   'gifs': []},\n",
       "  {'link': 'https://twitter.com/uniqloindonesia/status/1767508838595616769#m',\n",
       "   'text': 'Buka puasa sama yang lembut-lembut bikin seger, apa tuh?! 🤔  Eits jangan salah sangka dulu, ini bukan makanan yaa coba scroll deh 👇🏻  #UniqloRamadan #UniqloIndonesia #uniqlolifewear',\n",
       "   'user': {'name': 'uniqloindonesia',\n",
       "    'username': '@uniqloindonesia',\n",
       "    'profile_id': '687828931135684609',\n",
       "    'avatar': 'https://pbs.twimg.com/profile_images/687828931135684609/KGm1guC3_bigger.png'},\n",
       "   'date': 'Mar 12, 2024 · 11:12 AM UTC',\n",
       "   'is-retweet': False,\n",
       "   'is-pinned': False,\n",
       "   'external-link': '',\n",
       "   'replying-to': [],\n",
       "   'quoted-post': {},\n",
       "   'stats': {'comments': 1, 'retweets': 0, 'quotes': 0, 'likes': 1},\n",
       "   'pictures': [],\n",
       "   'videos': ['https://video.twimg.com/ext_tw_video/1767508594768195584/pu/vid/avc1/720x900/EXKB1TIolNC-MlYf.mp4?tag=12'],\n",
       "   'gifs': []},\n",
       "  {'link': 'https://twitter.com/uniqloindonesia/status/1767478594178334900#m',\n",
       "   'text': \"This summer let's capture the fresh energy through a leisurely, airy, and light wardrobe in everyday life  Check full collection and Add to Wishlist through UNIQLO.com and UNIQLO App.  Click here to see all the collection: https://s.uniqlo.com/3TyHh0k\",\n",
       "   'user': {'name': 'uniqloindonesia',\n",
       "    'username': '@uniqloindonesia',\n",
       "    'profile_id': '687828931135684609',\n",
       "    'avatar': 'https://pbs.twimg.com/profile_images/687828931135684609/KGm1guC3_bigger.png'},\n",
       "   'date': 'Mar 12, 2024 · 9:11 AM UTC',\n",
       "   'is-retweet': False,\n",
       "   'is-pinned': False,\n",
       "   'external-link': '',\n",
       "   'replying-to': [],\n",
       "   'quoted-post': {},\n",
       "   'stats': {'comments': 1, 'retweets': 1, 'quotes': 0, 'likes': 0},\n",
       "   'pictures': ['https://pbs.twimg.com/media/GIdYUYxboAAfoLa.jpg',\n",
       "    'https://pbs.twimg.com/media/GIdYUYuaAAAusic.jpg',\n",
       "    'https://pbs.twimg.com/media/GIdYUYubwAAWTr9.jpg',\n",
       "    'https://pbs.twimg.com/media/GIdYUY0asAAGtfP.jpg'],\n",
       "   'videos': [],\n",
       "   'gifs': []},\n",
       "  {'link': 'https://twitter.com/uniqloindonesia/status/1767478505334268020#m',\n",
       "   'text': 'UNIQLO : C Summer 2024 Collection Launching has moved up to March 15th 2024!  Here we are on 2nd launch of a sophisticated, light, and breezy collection by Clare Waight Keller  Scroll for more 👇🏻  #UniqloC #clarewaightkeller #UniqloIndonesia #UniqloLifewear',\n",
       "   'user': {'name': 'uniqloindonesia',\n",
       "    'username': '@uniqloindonesia',\n",
       "    'profile_id': '687828931135684609',\n",
       "    'avatar': 'https://pbs.twimg.com/profile_images/687828931135684609/KGm1guC3_bigger.png'},\n",
       "   'date': 'Mar 12, 2024 · 9:11 AM UTC',\n",
       "   'is-retweet': False,\n",
       "   'is-pinned': False,\n",
       "   'external-link': '',\n",
       "   'replying-to': [],\n",
       "   'quoted-post': {},\n",
       "   'stats': {'comments': 2, 'retweets': 1, 'quotes': 0, 'likes': 1},\n",
       "   'pictures': ['https://pbs.twimg.com/media/GIdYPDtbUAAZblU.jpg'],\n",
       "   'videos': [],\n",
       "   'gifs': []},\n",
       "  {'link': 'https://twitter.com/uniqloindonesia/status/1767418820250259573#m',\n",
       "   'text': 'Jangan lupa untuk padukan dengan kemeja koko khas Ramadan seperti Kemeja Twill Lembut Kerah Tegak Lengan Panjang biar penampilan semakin elegan.  Cek selengkapnya disini yuk https://s.uniqlo.com/3TggqVP',\n",
       "   'user': {'name': 'uniqloindonesia',\n",
       "    'username': '@uniqloindonesia',\n",
       "    'profile_id': '687828931135684609',\n",
       "    'avatar': 'https://pbs.twimg.com/profile_images/687828931135684609/KGm1guC3_bigger.png'},\n",
       "   'date': 'Mar 12, 2024 · 5:14 AM UTC',\n",
       "   'is-retweet': False,\n",
       "   'is-pinned': False,\n",
       "   'external-link': '',\n",
       "   'replying-to': [],\n",
       "   'quoted-post': {},\n",
       "   'stats': {'comments': 2, 'retweets': 1, 'quotes': 0, 'likes': 0},\n",
       "   'pictures': ['https://pbs.twimg.com/media/GIciCG8aIAARDne.jpg'],\n",
       "   'videos': [],\n",
       "   'gifs': []}],\n",
       " 'threads': []}"
      ]
     },
     "execution_count": 24,
     "metadata": {},
     "output_type": "execute_result"
    }
   ],
   "source": [
    "#cara mengetahui terdapat tweet atau tidak\n",
    "tweets"
   ]
  },
  {
   "cell_type": "code",
   "execution_count": 25,
   "metadata": {},
   "outputs": [],
   "source": [
    "def get_tweets(name, modes, no):\n",
    "    tweets = scraper.get_tweets(name, mode = modes, number=no)\n",
    "    final_tweets = []\n",
    "    for tweet in tweets['tweets']:\n",
    "        data = [tweet['link'], tweet['text'], tweet['date'], tweet['stats']['likes'], tweet['stats']['comments']]\n",
    "        final_tweets.append(data)\n",
    "    data = pd.DataFrame(final_tweets, columns = ['link','text', 'date', 'No_of_Likes', 'No_of_tweets'])\n",
    "    return data"
   ]
  },
  {
   "cell_type": "code",
   "execution_count": 26,
   "metadata": {},
   "outputs": [
    {
     "data": {
      "text/html": [
       "<div>\n",
       "<style scoped>\n",
       "    .dataframe tbody tr th:only-of-type {\n",
       "        vertical-align: middle;\n",
       "    }\n",
       "\n",
       "    .dataframe tbody tr th {\n",
       "        vertical-align: top;\n",
       "    }\n",
       "\n",
       "    .dataframe thead th {\n",
       "        text-align: right;\n",
       "    }\n",
       "</style>\n",
       "<table border=\"1\" class=\"dataframe\">\n",
       "  <thead>\n",
       "    <tr style=\"text-align: right;\">\n",
       "      <th></th>\n",
       "      <th>link</th>\n",
       "      <th>text</th>\n",
       "      <th>date</th>\n",
       "      <th>No_of_Likes</th>\n",
       "      <th>No_of_tweets</th>\n",
       "    </tr>\n",
       "  </thead>\n",
       "  <tbody>\n",
       "    <tr>\n",
       "      <th>0</th>\n",
       "      <td>https://twitter.com/uniqloindonesia/status/176...</td>\n",
       "      <td>Kalau yang ini tipe cewe yang pasti jadi pusat...</td>\n",
       "      <td>Mar 13, 2024 · 6:35 AM UTC</td>\n",
       "      <td>0</td>\n",
       "      <td>0</td>\n",
       "    </tr>\n",
       "    <tr>\n",
       "      <th>1</th>\n",
       "      <td>https://twitter.com/uniqloindonesia/status/176...</td>\n",
       "      <td>Ini pasti style workwear andalannya para commu...</td>\n",
       "      <td>Mar 13, 2024 · 6:35 AM UTC</td>\n",
       "      <td>1</td>\n",
       "      <td>1</td>\n",
       "    </tr>\n",
       "    <tr>\n",
       "      <th>2</th>\n",
       "      <td>https://twitter.com/uniqloindonesia/status/176...</td>\n",
       "      <td>Choose your side!  Kalau yang menggambarkan ka...</td>\n",
       "      <td>Mar 13, 2024 · 6:35 AM UTC</td>\n",
       "      <td>2</td>\n",
       "      <td>1</td>\n",
       "    </tr>\n",
       "    <tr>\n",
       "      <th>3</th>\n",
       "      <td>https://twitter.com/uniqloindonesia/status/176...</td>\n",
       "      <td>Dapatkan koleksi UNIQLO Linen nya hanya melalu...</td>\n",
       "      <td>Mar 12, 2024 · 11:12 AM UTC</td>\n",
       "      <td>0</td>\n",
       "      <td>1</td>\n",
       "    </tr>\n",
       "    <tr>\n",
       "      <th>4</th>\n",
       "      <td>https://twitter.com/uniqloindonesia/status/176...</td>\n",
       "      <td>Udah nyaman, desainnya versatile plus bisa men...</td>\n",
       "      <td>Mar 12, 2024 · 11:12 AM UTC</td>\n",
       "      <td>1</td>\n",
       "      <td>2</td>\n",
       "    </tr>\n",
       "    <tr>\n",
       "      <th>5</th>\n",
       "      <td>https://twitter.com/uniqloindonesia/status/176...</td>\n",
       "      <td>Yups, ini adalah Linen, bahan yang adem dan ha...</td>\n",
       "      <td>Mar 12, 2024 · 11:12 AM UTC</td>\n",
       "      <td>0</td>\n",
       "      <td>1</td>\n",
       "    </tr>\n",
       "    <tr>\n",
       "      <th>6</th>\n",
       "      <td>https://twitter.com/uniqloindonesia/status/176...</td>\n",
       "      <td>Buka puasa sama yang lembut-lembut bikin seger...</td>\n",
       "      <td>Mar 12, 2024 · 11:12 AM UTC</td>\n",
       "      <td>1</td>\n",
       "      <td>1</td>\n",
       "    </tr>\n",
       "    <tr>\n",
       "      <th>7</th>\n",
       "      <td>https://twitter.com/uniqloindonesia/status/176...</td>\n",
       "      <td>This summer let's capture the fresh energy thr...</td>\n",
       "      <td>Mar 12, 2024 · 9:11 AM UTC</td>\n",
       "      <td>0</td>\n",
       "      <td>1</td>\n",
       "    </tr>\n",
       "    <tr>\n",
       "      <th>8</th>\n",
       "      <td>https://twitter.com/uniqloindonesia/status/176...</td>\n",
       "      <td>UNIQLO : C Summer 2024 Collection Launching ha...</td>\n",
       "      <td>Mar 12, 2024 · 9:11 AM UTC</td>\n",
       "      <td>1</td>\n",
       "      <td>2</td>\n",
       "    </tr>\n",
       "    <tr>\n",
       "      <th>9</th>\n",
       "      <td>https://twitter.com/uniqloindonesia/status/176...</td>\n",
       "      <td>Jangan lupa untuk padukan dengan kemeja koko k...</td>\n",
       "      <td>Mar 12, 2024 · 5:14 AM UTC</td>\n",
       "      <td>0</td>\n",
       "      <td>2</td>\n",
       "    </tr>\n",
       "  </tbody>\n",
       "</table>\n",
       "</div>"
      ],
      "text/plain": [
       "                                                link  \\\n",
       "0  https://twitter.com/uniqloindonesia/status/176...   \n",
       "1  https://twitter.com/uniqloindonesia/status/176...   \n",
       "2  https://twitter.com/uniqloindonesia/status/176...   \n",
       "3  https://twitter.com/uniqloindonesia/status/176...   \n",
       "4  https://twitter.com/uniqloindonesia/status/176...   \n",
       "5  https://twitter.com/uniqloindonesia/status/176...   \n",
       "6  https://twitter.com/uniqloindonesia/status/176...   \n",
       "7  https://twitter.com/uniqloindonesia/status/176...   \n",
       "8  https://twitter.com/uniqloindonesia/status/176...   \n",
       "9  https://twitter.com/uniqloindonesia/status/176...   \n",
       "\n",
       "                                                text  \\\n",
       "0  Kalau yang ini tipe cewe yang pasti jadi pusat...   \n",
       "1  Ini pasti style workwear andalannya para commu...   \n",
       "2  Choose your side!  Kalau yang menggambarkan ka...   \n",
       "3  Dapatkan koleksi UNIQLO Linen nya hanya melalu...   \n",
       "4  Udah nyaman, desainnya versatile plus bisa men...   \n",
       "5  Yups, ini adalah Linen, bahan yang adem dan ha...   \n",
       "6  Buka puasa sama yang lembut-lembut bikin seger...   \n",
       "7  This summer let's capture the fresh energy thr...   \n",
       "8  UNIQLO : C Summer 2024 Collection Launching ha...   \n",
       "9  Jangan lupa untuk padukan dengan kemeja koko k...   \n",
       "\n",
       "                          date  No_of_Likes  No_of_tweets  \n",
       "0   Mar 13, 2024 · 6:35 AM UTC            0             0  \n",
       "1   Mar 13, 2024 · 6:35 AM UTC            1             1  \n",
       "2   Mar 13, 2024 · 6:35 AM UTC            2             1  \n",
       "3  Mar 12, 2024 · 11:12 AM UTC            0             1  \n",
       "4  Mar 12, 2024 · 11:12 AM UTC            1             2  \n",
       "5  Mar 12, 2024 · 11:12 AM UTC            0             1  \n",
       "6  Mar 12, 2024 · 11:12 AM UTC            1             1  \n",
       "7   Mar 12, 2024 · 9:11 AM UTC            0             1  \n",
       "8   Mar 12, 2024 · 9:11 AM UTC            1             2  \n",
       "9   Mar 12, 2024 · 5:14 AM UTC            0             2  "
      ]
     },
     "execution_count": 26,
     "metadata": {},
     "output_type": "execute_result"
    }
   ],
   "source": [
    "\n",
    "data"
   ]
  },
  {
   "cell_type": "markdown",
   "metadata": {},
   "source": [
    "# Hashtag"
   ]
  },
  {
   "cell_type": "code",
   "execution_count": 12,
   "metadata": {},
   "outputs": [
    {
     "name": "stdout",
     "output_type": "stream",
     "text": [
      "14-Mar-24 15:09:22 - No instance specified, using random instance https://nitter.in.projectsegfau.lt\n",
      "14-Mar-24 15:09:24 - Empty page on https://nitter.in.projectsegfau.lt\n"
     ]
    }
   ],
   "source": [
    "data_hashtag_ganjar = scraper.get_tweets('Ganjar Pranowo', 'hashtag', number=200)"
   ]
  },
  {
   "cell_type": "code",
   "execution_count": 8,
   "metadata": {},
   "outputs": [
    {
     "data": {
      "text/plain": [
       "{'tweets': [], 'threads': []}"
      ]
     },
     "execution_count": 8,
     "metadata": {},
     "output_type": "execute_result"
    }
   ],
   "source": [
    "data_hashtag_ganjar"
   ]
  },
  {
   "cell_type": "markdown",
   "metadata": {},
   "source": []
  },
  {
   "cell_type": "markdown",
   "metadata": {},
   "source": [
    "# Save data"
   ]
  },
  {
   "cell_type": "code",
   "execution_count": null,
   "metadata": {},
   "outputs": [],
   "source": [
    "data.to_csv('tweets.csv')"
   ]
  }
 ],
 "metadata": {
  "kernelspec": {
   "display_name": "Python 3",
   "language": "python",
   "name": "python3"
  },
  "language_info": {
   "codemirror_mode": {
    "name": "ipython",
    "version": 3
   },
   "file_extension": ".py",
   "mimetype": "text/x-python",
   "name": "python",
   "nbconvert_exporter": "python",
   "pygments_lexer": "ipython3",
   "version": "3.12.2"
  }
 },
 "nbformat": 4,
 "nbformat_minor": 2
}
